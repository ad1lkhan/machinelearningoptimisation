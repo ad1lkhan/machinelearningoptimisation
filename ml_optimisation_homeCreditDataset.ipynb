{
 "cells": [
  {
   "cell_type": "code",
   "execution_count": 1,
   "metadata": {
    "collapsed": true
   },
   "outputs": [],
   "source": [
    "%load_ext snakeviz"
   ]
  },
  {
   "cell_type": "code",
   "execution_count": 2,
   "metadata": {
    "_uuid": "baa5e8a850fe1aedb7d92232b25e9691fcb4c914",
    "collapsed": true
   },
   "outputs": [],
   "source": [
    "import gc\n",
    "\n",
    "import numpy as np\n",
    "import pandas as pd\n",
    "import itertools\n",
    "\n",
    "from sklearn.feature_selection import RFE, SelectFromModel\n",
    "from sklearn.linear_model import LogisticRegression\n",
    "from sklearn.ensemble import RandomForestClassifier\n",
    "from sklearn.model_selection import train_test_split\n",
    "from sklearn.preprocessing import Imputer, MinMaxScaler\n",
    "from lightgbm import LGBMClassifier\n",
    "from sklearn.model_selection import StratifiedKFold\n",
    "\n",
    "from skopt.space import Real, Integer, Categorical\n",
    "from skopt.utils import use_named_args\n",
    "from skopt import gp_minimize\n",
    "\n",
    "import eli5\n",
    "import shap\n",
    "import os\n",
    "\n",
    "from eli5.sklearn import PermutationImportance\n",
    "from sklearn.metrics import roc_auc_score\n",
    "from sklearn.metrics import roc_curve"
   ]
  },
  {
   "cell_type": "code",
   "execution_count": 3,
   "metadata": {
    "_cell_guid": "79c7e3d0-c299-4dcb-8224-4455121ee9b0",
    "_uuid": "d629ff2d2480ee46fbb7e2d37f6b5fab8052498a"
   },
   "outputs": [
    {
     "name": "stdout",
     "output_type": "stream",
     "text": [
      " \n",
      "*** Profile stats marshalled to file '/var/folders/fv/9x820hgx2klf9vw1zsz4b2_c0000gn/T/tmpgbb69i3l'. \n"
     ]
    }
   ],
   "source": [
    "%%snakeviz\n",
    "\n",
    "path = '/Users/adil/Downloads/all/'\n",
    "data = pd.read_csv(path + 'application_train.csv')\n",
    "data = data.drop(columns = ['SK_ID_CURR'])\n",
    "data.head()"
   ]
  },
  {
   "cell_type": "code",
   "execution_count": 4,
   "metadata": {
    "_uuid": "4c2824c19c3fe41fef1b274719b03819f80f2623"
   },
   "outputs": [
    {
     "name": "stdout",
     "output_type": "stream",
     "text": [
      "(307511, 121)\n"
     ]
    },
    {
     "data": {
      "text/html": [
       "<div>\n",
       "<style scoped>\n",
       "    .dataframe tbody tr th:only-of-type {\n",
       "        vertical-align: middle;\n",
       "    }\n",
       "\n",
       "    .dataframe tbody tr th {\n",
       "        vertical-align: top;\n",
       "    }\n",
       "\n",
       "    .dataframe thead th {\n",
       "        text-align: right;\n",
       "    }\n",
       "</style>\n",
       "<table border=\"1\" class=\"dataframe\">\n",
       "  <thead>\n",
       "    <tr style=\"text-align: right;\">\n",
       "      <th></th>\n",
       "      <th>TARGET</th>\n",
       "      <th>NAME_CONTRACT_TYPE</th>\n",
       "      <th>CODE_GENDER</th>\n",
       "      <th>FLAG_OWN_CAR</th>\n",
       "      <th>FLAG_OWN_REALTY</th>\n",
       "      <th>CNT_CHILDREN</th>\n",
       "      <th>AMT_INCOME_TOTAL</th>\n",
       "      <th>AMT_CREDIT</th>\n",
       "      <th>AMT_ANNUITY</th>\n",
       "      <th>AMT_GOODS_PRICE</th>\n",
       "      <th>...</th>\n",
       "      <th>FLAG_DOCUMENT_18</th>\n",
       "      <th>FLAG_DOCUMENT_19</th>\n",
       "      <th>FLAG_DOCUMENT_20</th>\n",
       "      <th>FLAG_DOCUMENT_21</th>\n",
       "      <th>AMT_REQ_CREDIT_BUREAU_HOUR</th>\n",
       "      <th>AMT_REQ_CREDIT_BUREAU_DAY</th>\n",
       "      <th>AMT_REQ_CREDIT_BUREAU_WEEK</th>\n",
       "      <th>AMT_REQ_CREDIT_BUREAU_MON</th>\n",
       "      <th>AMT_REQ_CREDIT_BUREAU_QRT</th>\n",
       "      <th>AMT_REQ_CREDIT_BUREAU_YEAR</th>\n",
       "    </tr>\n",
       "  </thead>\n",
       "  <tbody>\n",
       "    <tr>\n",
       "      <th>0</th>\n",
       "      <td>1</td>\n",
       "      <td>Cash loans</td>\n",
       "      <td>M</td>\n",
       "      <td>N</td>\n",
       "      <td>Y</td>\n",
       "      <td>0</td>\n",
       "      <td>202500.0</td>\n",
       "      <td>406597.5</td>\n",
       "      <td>24700.5</td>\n",
       "      <td>351000.0</td>\n",
       "      <td>...</td>\n",
       "      <td>0</td>\n",
       "      <td>0</td>\n",
       "      <td>0</td>\n",
       "      <td>0</td>\n",
       "      <td>0.0</td>\n",
       "      <td>0.0</td>\n",
       "      <td>0.0</td>\n",
       "      <td>0.0</td>\n",
       "      <td>0.0</td>\n",
       "      <td>1.0</td>\n",
       "    </tr>\n",
       "    <tr>\n",
       "      <th>1</th>\n",
       "      <td>0</td>\n",
       "      <td>Cash loans</td>\n",
       "      <td>F</td>\n",
       "      <td>N</td>\n",
       "      <td>N</td>\n",
       "      <td>0</td>\n",
       "      <td>270000.0</td>\n",
       "      <td>1293502.5</td>\n",
       "      <td>35698.5</td>\n",
       "      <td>1129500.0</td>\n",
       "      <td>...</td>\n",
       "      <td>0</td>\n",
       "      <td>0</td>\n",
       "      <td>0</td>\n",
       "      <td>0</td>\n",
       "      <td>0.0</td>\n",
       "      <td>0.0</td>\n",
       "      <td>0.0</td>\n",
       "      <td>0.0</td>\n",
       "      <td>0.0</td>\n",
       "      <td>0.0</td>\n",
       "    </tr>\n",
       "    <tr>\n",
       "      <th>2</th>\n",
       "      <td>0</td>\n",
       "      <td>Revolving loans</td>\n",
       "      <td>M</td>\n",
       "      <td>Y</td>\n",
       "      <td>Y</td>\n",
       "      <td>0</td>\n",
       "      <td>67500.0</td>\n",
       "      <td>135000.0</td>\n",
       "      <td>6750.0</td>\n",
       "      <td>135000.0</td>\n",
       "      <td>...</td>\n",
       "      <td>0</td>\n",
       "      <td>0</td>\n",
       "      <td>0</td>\n",
       "      <td>0</td>\n",
       "      <td>0.0</td>\n",
       "      <td>0.0</td>\n",
       "      <td>0.0</td>\n",
       "      <td>0.0</td>\n",
       "      <td>0.0</td>\n",
       "      <td>0.0</td>\n",
       "    </tr>\n",
       "    <tr>\n",
       "      <th>3</th>\n",
       "      <td>0</td>\n",
       "      <td>Cash loans</td>\n",
       "      <td>F</td>\n",
       "      <td>N</td>\n",
       "      <td>Y</td>\n",
       "      <td>0</td>\n",
       "      <td>135000.0</td>\n",
       "      <td>312682.5</td>\n",
       "      <td>29686.5</td>\n",
       "      <td>297000.0</td>\n",
       "      <td>...</td>\n",
       "      <td>0</td>\n",
       "      <td>0</td>\n",
       "      <td>0</td>\n",
       "      <td>0</td>\n",
       "      <td>NaN</td>\n",
       "      <td>NaN</td>\n",
       "      <td>NaN</td>\n",
       "      <td>NaN</td>\n",
       "      <td>NaN</td>\n",
       "      <td>NaN</td>\n",
       "    </tr>\n",
       "    <tr>\n",
       "      <th>4</th>\n",
       "      <td>0</td>\n",
       "      <td>Cash loans</td>\n",
       "      <td>M</td>\n",
       "      <td>N</td>\n",
       "      <td>Y</td>\n",
       "      <td>0</td>\n",
       "      <td>121500.0</td>\n",
       "      <td>513000.0</td>\n",
       "      <td>21865.5</td>\n",
       "      <td>513000.0</td>\n",
       "      <td>...</td>\n",
       "      <td>0</td>\n",
       "      <td>0</td>\n",
       "      <td>0</td>\n",
       "      <td>0</td>\n",
       "      <td>0.0</td>\n",
       "      <td>0.0</td>\n",
       "      <td>0.0</td>\n",
       "      <td>0.0</td>\n",
       "      <td>0.0</td>\n",
       "      <td>0.0</td>\n",
       "    </tr>\n",
       "  </tbody>\n",
       "</table>\n",
       "<p>5 rows × 121 columns</p>\n",
       "</div>"
      ],
      "text/plain": [
       "   TARGET NAME_CONTRACT_TYPE CODE_GENDER FLAG_OWN_CAR FLAG_OWN_REALTY  \\\n",
       "0       1         Cash loans           M            N               Y   \n",
       "1       0         Cash loans           F            N               N   \n",
       "2       0    Revolving loans           M            Y               Y   \n",
       "3       0         Cash loans           F            N               Y   \n",
       "4       0         Cash loans           M            N               Y   \n",
       "\n",
       "   CNT_CHILDREN  AMT_INCOME_TOTAL  AMT_CREDIT  AMT_ANNUITY  AMT_GOODS_PRICE  \\\n",
       "0             0          202500.0    406597.5      24700.5         351000.0   \n",
       "1             0          270000.0   1293502.5      35698.5        1129500.0   \n",
       "2             0           67500.0    135000.0       6750.0         135000.0   \n",
       "3             0          135000.0    312682.5      29686.5         297000.0   \n",
       "4             0          121500.0    513000.0      21865.5         513000.0   \n",
       "\n",
       "              ...             FLAG_DOCUMENT_18 FLAG_DOCUMENT_19  \\\n",
       "0             ...                            0                0   \n",
       "1             ...                            0                0   \n",
       "2             ...                            0                0   \n",
       "3             ...                            0                0   \n",
       "4             ...                            0                0   \n",
       "\n",
       "  FLAG_DOCUMENT_20 FLAG_DOCUMENT_21 AMT_REQ_CREDIT_BUREAU_HOUR  \\\n",
       "0                0                0                        0.0   \n",
       "1                0                0                        0.0   \n",
       "2                0                0                        0.0   \n",
       "3                0                0                        NaN   \n",
       "4                0                0                        0.0   \n",
       "\n",
       "   AMT_REQ_CREDIT_BUREAU_DAY  AMT_REQ_CREDIT_BUREAU_WEEK  \\\n",
       "0                        0.0                         0.0   \n",
       "1                        0.0                         0.0   \n",
       "2                        0.0                         0.0   \n",
       "3                        NaN                         NaN   \n",
       "4                        0.0                         0.0   \n",
       "\n",
       "   AMT_REQ_CREDIT_BUREAU_MON  AMT_REQ_CREDIT_BUREAU_QRT  \\\n",
       "0                        0.0                        0.0   \n",
       "1                        0.0                        0.0   \n",
       "2                        0.0                        0.0   \n",
       "3                        NaN                        NaN   \n",
       "4                        0.0                        0.0   \n",
       "\n",
       "   AMT_REQ_CREDIT_BUREAU_YEAR  \n",
       "0                         1.0  \n",
       "1                         0.0  \n",
       "2                         0.0  \n",
       "3                         NaN  \n",
       "4                         0.0  \n",
       "\n",
       "[5 rows x 121 columns]"
      ]
     },
     "execution_count": 4,
     "metadata": {},
     "output_type": "execute_result"
    }
   ],
   "source": [
    "print(data.shape)\n",
    "data.head()"
   ]
  },
  {
   "cell_type": "markdown",
   "metadata": {
    "_uuid": "affeceee728bdac056211828b53049ffd645c60e"
   },
   "source": [
    "## Cleaning"
   ]
  },
  {
   "cell_type": "code",
   "execution_count": 5,
   "metadata": {
    "_uuid": "e378d1d7dff0f40e8bc9f7e1e8ec8fc47f4f62a6",
    "collapsed": true
   },
   "outputs": [],
   "source": [
    "#Function to replace outliers in input data\n",
    "def replace_outliers(df):\n",
    "    #Optional: Remove 4 applications with XNA CODE_GENDER (train set)\n",
    "    if 'CODE_GENDER' in df:\n",
    "        df = df[df['CODE_GENDER'] != 'XNA']\n",
    "\n",
    "    #Replace outlier values with nan\n",
    "    df['DAYS_EMPLOYED'] = df['DAYS_EMPLOYED'].map(lambda x: x if x <= 0 else np.nan) # Days employed were negative, however, some were positive (which represent nan)\n",
    "    df['REGION_RATING_CLIENT_W_CITY'] = df['REGION_RATING_CLIENT_W_CITY'].map(lambda x: x if x >= 0 else np.nan) \n",
    "    df['AMT_INCOME_TOTAL'] = df['AMT_INCOME_TOTAL'].map(lambda x: x if x <= 5e6 else np.nan)\n",
    "    df['AMT_REQ_CREDIT_BUREAU_QRT'] = df['AMT_REQ_CREDIT_BUREAU_QRT'].map(lambda x: x if x <= 10 else np.nan)\n",
    "    df['OBS_30_CNT_SOCIAL_CIRCLE'] = df['OBS_30_CNT_SOCIAL_CIRCLE'].map(lambda x: x if x <= 40 else np.nan)\n",
    "    df['OBS_60_CNT_SOCIAL_CIRCLE'] = df['OBS_60_CNT_SOCIAL_CIRCLE'].map(lambda x: x if x <= 50 else np.nan)\n",
    "    df['DEF_30_CNT_SOCIAL_CIRCLE'] = df['DEF_30_CNT_SOCIAL_CIRCLE'].map(lambda x: x if x <= 100 else np.nan)\n",
    "    \n",
    "    return df"
   ]
  },
  {
   "cell_type": "markdown",
   "metadata": {
    "_uuid": "09b1ccf996b9547bd66edbd021ad69881cb70237"
   },
   "source": [
    "###### Recursive feature elimination"
   ]
  },
  {
   "cell_type": "code",
   "execution_count": 6,
   "metadata": {
    "_uuid": "38d37beca6d90e9089231ee952e369872a934077",
    "collapsed": true
   },
   "outputs": [],
   "source": [
    "def rfe_selector(input_df, labels, drop_ratio = 0.5):\n",
    "    drop_ratio = max(0,min(drop_ratio, 1))\n",
    "    df = input_df.copy()\n",
    "    num_feats = int(len(df.columns) * drop_ratio)\n",
    "    df = impute_features(df, features ='All')    \n",
    "    df = scale_features(df)\n",
    "    selector = RFE(estimator=LogisticRegression(solver='saga', n_jobs=-1), n_features_to_select=num_feats, step=10, verbose=20)\n",
    "    selector.fit(df, labels)\n",
    "    rfe_support = selector.get_support()\n",
    "    rfe_feature = df.loc[:,rfe_support].columns.tolist()\n",
    "    print('RFE : ', str(len(rfe_feature)), 'selected features out of', str(len(rfe_feature)))\n",
    "    del df, selector, rfe_feature\n",
    "    return rfe_support"
   ]
  },
  {
   "cell_type": "markdown",
   "metadata": {
    "_uuid": "dc10efaee10e0beaa39c9d5d1c37bf89631d5839"
   },
   "source": [
    "###### Random forest"
   ]
  },
  {
   "cell_type": "code",
   "execution_count": 7,
   "metadata": {
    "_uuid": "8316a1f3ff061e62ac5013b2ba96bb39de51bbf8",
    "collapsed": true
   },
   "outputs": [],
   "source": [
    "def rf_selector(df, labels):\n",
    "    model = RandomForestClassifier(n_estimators=150)\n",
    "    model.fit(df, labels)\n",
    "    return model.feature_importances_"
   ]
  },
  {
   "cell_type": "markdown",
   "metadata": {},
   "source": [
    "###### RF Classifier"
   ]
  },
  {
   "cell_type": "code",
   "execution_count": 8,
   "metadata": {
    "collapsed": true
   },
   "outputs": [],
   "source": [
    "#Funtion that performs 10 fold cv on input data and returns AUC score\n",
    "def RF_Classifier(df, labels, num_splits = 10):\n",
    "    probas_ = np.zeros(df.shape[0])\n",
    "    # Run classifier with cross-validation\n",
    "    cv = StratifiedKFold(n_splits=num_splits)\n",
    "\n",
    "    for trainSet, testSet in cv.split(df, labels):\n",
    "        rf_clf = RandomForestClassifier(n_estimators=100, random_state=1, n_jobs=-1).fit(df.iloc[trainSet], labels.iloc[trainSet])\n",
    "        probas_[testSet] = rf_clf.predict_proba(df.iloc[testSet])[:,1]\n",
    "        del rf_clf\n",
    "\n",
    "    return roc_auc_score(labels, probas_)"
   ]
  },
  {
   "cell_type": "markdown",
   "metadata": {},
   "source": [
    "###### Light GBM"
   ]
  },
  {
   "cell_type": "code",
   "execution_count": 9,
   "metadata": {
    "_uuid": "75330658524953cf415b5fd6a66742699ce6f9cf",
    "collapsed": true
   },
   "outputs": [],
   "source": [
    "def lgbm_selector(df, labels):\n",
    "    clf = LGBMClassifier(n_jobs=-1, silent=True)\n",
    "    model = clf.fit(df, labels, eval_metric = 'auc', verbose= False, early_stopping_rounds= 200)\n",
    "    model.fit(df, labels)\n",
    "    return model.feature_importances_"
   ]
  },
  {
   "cell_type": "markdown",
   "metadata": {
    "_uuid": "ecf44b3b8724f19e3ec254c910b8741cc790708c"
   },
   "source": [
    "###### impute features; for missing data"
   ]
  },
  {
   "cell_type": "code",
   "execution_count": 10,
   "metadata": {
    "_uuid": "9fc7bf0c5a6c89ab26efb64a8f64513aaf361a2d",
    "collapsed": true
   },
   "outputs": [],
   "source": [
    "def impute_features(df, features = 'All'):\n",
    "    categorical_feats, floatingPoint_feats, bool_feats, integer_feats = identify_feature_types(df,\n",
    "                                                                                        ['TARGET', 'SK_ID_CURR', 'Unnamed :0'])\n",
    "    if(features == 'All'):\n",
    "        feature_list = [f for f in df.columns if f not in ['TARGET', 'SK_ID_CURR', 'Unnamed :0']]\n",
    "    elif(features == 'Numerical'):\n",
    "        feature_list = floatingPoint_feats + integer_feats\n",
    "    elif(features == 'Categorical'):\n",
    "        feature_list = categorical_feats + bool_feats\n",
    "    else:\n",
    "        raise ValueError('features can either be All, Numerical, Categorical')\n",
    "        \n",
    "    #Imputer for numerical features\n",
    "    imputer = Imputer(strategy = 'median')\n",
    "    \n",
    "    for feature in feature_list:\n",
    "        if (feature in categorical_feats + bool_feats):\n",
    "            df[feature] = df[feature].fillna(df[feature].value_counts().index[0])\n",
    "        else:\n",
    "            imputer.fit(df[feature].values.reshape(-1,1))\n",
    "            df[feature] = imputer.transform(df[feature].values.reshape(-1,1))\n",
    "\n",
    "    return df"
   ]
  },
  {
   "cell_type": "markdown",
   "metadata": {
    "_uuid": "0f76cc60f924c8a3187b1bd7c4fd7292b8d37e3b"
   },
   "source": [
    "###### Scale feature"
   ]
  },
  {
   "cell_type": "code",
   "execution_count": 11,
   "metadata": {
    "_uuid": "fac43b3c3103d4df1b202d044a43204f7773e8fb",
    "collapsed": true
   },
   "outputs": [],
   "source": [
    "def scale_features(df, feature_list = None, scale_range = (0,1)):\n",
    "    if(feature_list == None):\n",
    "        feature_list = [f for f in df.columns if f not in ['TARGET', 'SK_ID_CURR', 'Unnamed :0']]\n",
    "        \n",
    "    #Scale each feature to 0-1\n",
    "    scaler = MinMaxScaler(feature_range = scale_range)\n",
    "    \n",
    "    for feature in feature_list:\n",
    "        if (df[feature].dtype == 'object'):\n",
    "            continue\n",
    "\n",
    "        scaler.fit(df[feature].values.reshape(-1,1))\n",
    "        df[feature] = scaler.transform(df[feature].values.reshape(-1,1))\n",
    "    \n",
    "    return df"
   ]
  },
  {
   "cell_type": "markdown",
   "metadata": {
    "_uuid": "22cf591fd9add2644ea747fc8f578b5afa2c4d89"
   },
   "source": [
    "###### Weight of evidence; considering multiple sources of information"
   ]
  },
  {
   "cell_type": "code",
   "execution_count": 12,
   "metadata": {
    "_uuid": "30b25ccb10fa720ce33d95b6076205d6bb14e80c",
    "collapsed": true
   },
   "outputs": [],
   "source": [
    "#Function to caluculate WOE\n",
    "def calculate_WOE(df, target,feature):\n",
    "    lst = []\n",
    "    for i in range(df[feature].nunique(dropna=False)):\n",
    "        val = list(df[feature].unique())[i]\n",
    "        lst.append([feature,                                                        # Variable\n",
    "                    val,                                                            # Value\n",
    "                    df[df[feature] == val].count()[feature],                        # All\n",
    "                    df[(df[feature] == val) & (df[target] == 0)].count()[feature],  # Good (target == 0)\n",
    "                    df[(df[feature] == val) & (df[target] == 1)].count()[feature]]) # Bad (target == 1)\n",
    "\n",
    "    data = pd.DataFrame(lst, columns=['Variable', 'Value', 'All', 'Good', 'Bad'])\n",
    "    data['Distribution Good'] = (data['All'] - data['Bad']) / (data['All'].sum() - data['Bad'].sum())\n",
    "    data['Distribution Bad'] = data['Bad'] / data['Bad'].sum()\n",
    "    data['WoE'] = np.log(data['Distribution Good'] / data['Distribution Bad'])\n",
    "\n",
    "    data = data.replace({'WoE': {np.inf: 0, -np.inf: 0}})\n",
    "    return data"
   ]
  },
  {
   "cell_type": "code",
   "execution_count": 13,
   "metadata": {
    "_uuid": "545639b620471635b00f37688cb379e28f648a2e",
    "collapsed": true
   },
   "outputs": [],
   "source": [
    "#Function to identify feature types in a given data frame\n",
    "def identify_feature_types(df, features_to_ignore, verbose = False):\n",
    "    categorical_features = list(f for f in df.select_dtypes(include='object') if f not in features_to_ignore)\n",
    "    floatingPoint_features = list(f for f in df.select_dtypes(include='float64') if f not in features_to_ignore)\n",
    "    temp = list(f for f in df.select_dtypes(include='int64') if f not in features_to_ignore)\n",
    "    bool_features = [x for x in temp if 'FLAG' in x]\n",
    "    integer_features = [x for x in temp if x not in bool_features]\n",
    "    totalCount = len(categorical_features) + len(floatingPoint_features) + len(bool_features) + len(integer_features)\n",
    "    if (verbose == True):\n",
    "        print ('Catagorical Features : {}, Floating Point Features : {}, Boolean Features : {}, Integer Features : {}, Total Count : {}'\n",
    "           .format(len(categorical_features), len(floatingPoint_features), len(bool_features), len(integer_features), totalCount))\n",
    "    \n",
    "    return categorical_features, floatingPoint_features, bool_features, integer_features"
   ]
  },
  {
   "cell_type": "markdown",
   "metadata": {},
   "source": [
    "###### Stratified Sampling"
   ]
  },
  {
   "cell_type": "code",
   "execution_count": 14,
   "metadata": {
    "_uuid": "b95c12e1c5489bab45458fe365cbde7e0315ab23",
    "collapsed": true
   },
   "outputs": [],
   "source": [
    "def take_sample(input_df, labels, stratified = True):\n",
    "    df = input_df.copy()\n",
    "    df['TARGET'] = labels\n",
    "    num_samples = df.loc[df.TARGET==1].shape[0]\n",
    "\n",
    "#     sampling_ratio = num_samples / df.shape[0]\n",
    "    sample1 = df.loc[df.TARGET==1].sample(frac = 0.4, replace=False)\n",
    "    print('label 1 sample size:', str(sample1.shape[0]))\n",
    "    sample0 = df.loc[df.TARGET==0].sample(frac = 0.4, replace=False)\n",
    "    print('label 0 sample size:', str(sample0.shape[0]))\n",
    "\n",
    "    sampled_df = pd.concat([sample1, sample0], axis=0)\n",
    "    sampled_labels = sampled_df.pop('TARGET')\n",
    "    del df\n",
    "    return sampled_df, sampled_labels"
   ]
  },
  {
   "cell_type": "markdown",
   "metadata": {},
   "source": [
    "###### Get rid of outliers"
   ]
  },
  {
   "cell_type": "code",
   "execution_count": 15,
   "metadata": {
    "_uuid": "25817f8fe41b234c45a2f7c117320e51c7aadc27"
   },
   "outputs": [
    {
     "name": "stderr",
     "output_type": "stream",
     "text": [
      "/Users/adil/anaconda3/envs/python36_v2/lib/python3.6/site-packages/ipykernel_launcher.py:8: SettingWithCopyWarning: \n",
      "A value is trying to be set on a copy of a slice from a DataFrame.\n",
      "Try using .loc[row_indexer,col_indexer] = value instead\n",
      "\n",
      "See the caveats in the documentation: http://pandas.pydata.org/pandas-docs/stable/indexing.html#indexing-view-versus-copy\n",
      "  \n",
      "/Users/adil/anaconda3/envs/python36_v2/lib/python3.6/site-packages/ipykernel_launcher.py:9: SettingWithCopyWarning: \n",
      "A value is trying to be set on a copy of a slice from a DataFrame.\n",
      "Try using .loc[row_indexer,col_indexer] = value instead\n",
      "\n",
      "See the caveats in the documentation: http://pandas.pydata.org/pandas-docs/stable/indexing.html#indexing-view-versus-copy\n",
      "  if __name__ == '__main__':\n",
      "/Users/adil/anaconda3/envs/python36_v2/lib/python3.6/site-packages/ipykernel_launcher.py:10: SettingWithCopyWarning: \n",
      "A value is trying to be set on a copy of a slice from a DataFrame.\n",
      "Try using .loc[row_indexer,col_indexer] = value instead\n",
      "\n",
      "See the caveats in the documentation: http://pandas.pydata.org/pandas-docs/stable/indexing.html#indexing-view-versus-copy\n",
      "  # Remove the CWD from sys.path while we load stuff.\n",
      "/Users/adil/anaconda3/envs/python36_v2/lib/python3.6/site-packages/ipykernel_launcher.py:11: SettingWithCopyWarning: \n",
      "A value is trying to be set on a copy of a slice from a DataFrame.\n",
      "Try using .loc[row_indexer,col_indexer] = value instead\n",
      "\n",
      "See the caveats in the documentation: http://pandas.pydata.org/pandas-docs/stable/indexing.html#indexing-view-versus-copy\n",
      "  # This is added back by InteractiveShellApp.init_path()\n",
      "/Users/adil/anaconda3/envs/python36_v2/lib/python3.6/site-packages/ipykernel_launcher.py:12: SettingWithCopyWarning: \n",
      "A value is trying to be set on a copy of a slice from a DataFrame.\n",
      "Try using .loc[row_indexer,col_indexer] = value instead\n",
      "\n",
      "See the caveats in the documentation: http://pandas.pydata.org/pandas-docs/stable/indexing.html#indexing-view-versus-copy\n",
      "  if sys.path[0] == '':\n",
      "/Users/adil/anaconda3/envs/python36_v2/lib/python3.6/site-packages/ipykernel_launcher.py:13: SettingWithCopyWarning: \n",
      "A value is trying to be set on a copy of a slice from a DataFrame.\n",
      "Try using .loc[row_indexer,col_indexer] = value instead\n",
      "\n",
      "See the caveats in the documentation: http://pandas.pydata.org/pandas-docs/stable/indexing.html#indexing-view-versus-copy\n",
      "  del sys.path[0]\n",
      "/Users/adil/anaconda3/envs/python36_v2/lib/python3.6/site-packages/ipykernel_launcher.py:14: SettingWithCopyWarning: \n",
      "A value is trying to be set on a copy of a slice from a DataFrame.\n",
      "Try using .loc[row_indexer,col_indexer] = value instead\n",
      "\n",
      "See the caveats in the documentation: http://pandas.pydata.org/pandas-docs/stable/indexing.html#indexing-view-versus-copy\n",
      "  \n"
     ]
    },
    {
     "name": "stdout",
     "output_type": "stream",
     "text": [
      " \n",
      "*** Profile stats marshalled to file '/var/folders/fv/9x820hgx2klf9vw1zsz4b2_c0000gn/T/tmps2exkf9k'. \n"
     ]
    }
   ],
   "source": [
    "%%snakeviz\n",
    "data2 = replace_outliers(data)"
   ]
  },
  {
   "cell_type": "code",
   "execution_count": 16,
   "metadata": {
    "_uuid": "c9496ad39d97a71fe13f0816034640b2841fb428"
   },
   "outputs": [
    {
     "name": "stderr",
     "output_type": "stream",
     "text": [
      "/Users/adil/anaconda3/envs/python36_v2/lib/python3.6/site-packages/ipykernel_launcher.py:5: SettingWithCopyWarning: \n",
      "A value is trying to be set on a copy of a slice from a DataFrame.\n",
      "Try using .loc[row_indexer,col_indexer] = value instead\n",
      "\n",
      "See the caveats in the documentation: http://pandas.pydata.org/pandas-docs/stable/indexing.html#indexing-view-versus-copy\n",
      "  \"\"\"\n"
     ]
    },
    {
     "name": "stdout",
     "output_type": "stream",
     "text": [
      "CPU times: user 41.7 s, sys: 5.48 s, total: 47.2 s\n",
      "Wall time: 47.8 s\n"
     ]
    }
   ],
   "source": [
    "%%time\n",
    "categorical_feats, floatingPoint_feats, bool_feats, integer_feats = identify_feature_types(data2,\n",
    "                                                                            ['TARGET', 'SK_ID_CURR', 'Unnamed :0'])\n",
    "for cat_feature in categorical_feats:\n",
    "    WoE_df = calculate_WOE(data2, 'TARGET', cat_feature)\n",
    "    data2[cat_feature] = data2[cat_feature].replace(WoE_df.set_index('Value')['WoE'])"
   ]
  },
  {
   "cell_type": "code",
   "execution_count": 17,
   "metadata": {
    "_uuid": "69f2adedefad70df10445e4a0dd471a5d05f0e70"
   },
   "outputs": [
    {
     "data": {
      "text/plain": [
       "(307507, 121)"
      ]
     },
     "execution_count": 17,
     "metadata": {},
     "output_type": "execute_result"
    }
   ],
   "source": [
    "data2.shape"
   ]
  },
  {
   "cell_type": "code",
   "execution_count": 18,
   "metadata": {
    "_uuid": "506c2d680d11443b5f60c59e59fb7603c64c9e84"
   },
   "outputs": [
    {
     "data": {
      "text/html": [
       "<div>\n",
       "<style scoped>\n",
       "    .dataframe tbody tr th:only-of-type {\n",
       "        vertical-align: middle;\n",
       "    }\n",
       "\n",
       "    .dataframe tbody tr th {\n",
       "        vertical-align: top;\n",
       "    }\n",
       "\n",
       "    .dataframe thead th {\n",
       "        text-align: right;\n",
       "    }\n",
       "</style>\n",
       "<table border=\"1\" class=\"dataframe\">\n",
       "  <thead>\n",
       "    <tr style=\"text-align: right;\">\n",
       "      <th></th>\n",
       "      <th>TARGET</th>\n",
       "      <th>NAME_CONTRACT_TYPE</th>\n",
       "      <th>CODE_GENDER</th>\n",
       "      <th>FLAG_OWN_CAR</th>\n",
       "      <th>FLAG_OWN_REALTY</th>\n",
       "      <th>CNT_CHILDREN</th>\n",
       "      <th>AMT_INCOME_TOTAL</th>\n",
       "      <th>AMT_CREDIT</th>\n",
       "      <th>AMT_ANNUITY</th>\n",
       "      <th>AMT_GOODS_PRICE</th>\n",
       "      <th>...</th>\n",
       "      <th>FLAG_DOCUMENT_18</th>\n",
       "      <th>FLAG_DOCUMENT_19</th>\n",
       "      <th>FLAG_DOCUMENT_20</th>\n",
       "      <th>FLAG_DOCUMENT_21</th>\n",
       "      <th>AMT_REQ_CREDIT_BUREAU_HOUR</th>\n",
       "      <th>AMT_REQ_CREDIT_BUREAU_DAY</th>\n",
       "      <th>AMT_REQ_CREDIT_BUREAU_WEEK</th>\n",
       "      <th>AMT_REQ_CREDIT_BUREAU_MON</th>\n",
       "      <th>AMT_REQ_CREDIT_BUREAU_QRT</th>\n",
       "      <th>AMT_REQ_CREDIT_BUREAU_YEAR</th>\n",
       "    </tr>\n",
       "  </thead>\n",
       "  <tbody>\n",
       "    <tr>\n",
       "      <th>0</th>\n",
       "      <td>1</td>\n",
       "      <td>-0.036222</td>\n",
       "      <td>-0.250917</td>\n",
       "      <td>-0.056238</td>\n",
       "      <td>0.015087</td>\n",
       "      <td>0</td>\n",
       "      <td>202500.0</td>\n",
       "      <td>406597.5</td>\n",
       "      <td>24700.5</td>\n",
       "      <td>351000.0</td>\n",
       "      <td>...</td>\n",
       "      <td>0</td>\n",
       "      <td>0</td>\n",
       "      <td>0</td>\n",
       "      <td>0</td>\n",
       "      <td>0.0</td>\n",
       "      <td>0.0</td>\n",
       "      <td>0.0</td>\n",
       "      <td>0.0</td>\n",
       "      <td>0.0</td>\n",
       "      <td>1.0</td>\n",
       "    </tr>\n",
       "    <tr>\n",
       "      <th>1</th>\n",
       "      <td>0</td>\n",
       "      <td>-0.036222</td>\n",
       "      <td>0.154321</td>\n",
       "      <td>-0.056238</td>\n",
       "      <td>-0.033475</td>\n",
       "      <td>0</td>\n",
       "      <td>270000.0</td>\n",
       "      <td>1293502.5</td>\n",
       "      <td>35698.5</td>\n",
       "      <td>1129500.0</td>\n",
       "      <td>...</td>\n",
       "      <td>0</td>\n",
       "      <td>0</td>\n",
       "      <td>0</td>\n",
       "      <td>0</td>\n",
       "      <td>0.0</td>\n",
       "      <td>0.0</td>\n",
       "      <td>0.0</td>\n",
       "      <td>0.0</td>\n",
       "      <td>0.0</td>\n",
       "      <td>0.0</td>\n",
       "    </tr>\n",
       "    <tr>\n",
       "      <th>2</th>\n",
       "      <td>0</td>\n",
       "      <td>0.415413</td>\n",
       "      <td>-0.250917</td>\n",
       "      <td>0.117347</td>\n",
       "      <td>0.015087</td>\n",
       "      <td>0</td>\n",
       "      <td>67500.0</td>\n",
       "      <td>135000.0</td>\n",
       "      <td>6750.0</td>\n",
       "      <td>135000.0</td>\n",
       "      <td>...</td>\n",
       "      <td>0</td>\n",
       "      <td>0</td>\n",
       "      <td>0</td>\n",
       "      <td>0</td>\n",
       "      <td>0.0</td>\n",
       "      <td>0.0</td>\n",
       "      <td>0.0</td>\n",
       "      <td>0.0</td>\n",
       "      <td>0.0</td>\n",
       "      <td>0.0</td>\n",
       "    </tr>\n",
       "    <tr>\n",
       "      <th>3</th>\n",
       "      <td>0</td>\n",
       "      <td>-0.036222</td>\n",
       "      <td>0.154321</td>\n",
       "      <td>-0.056238</td>\n",
       "      <td>0.015087</td>\n",
       "      <td>0</td>\n",
       "      <td>135000.0</td>\n",
       "      <td>312682.5</td>\n",
       "      <td>29686.5</td>\n",
       "      <td>297000.0</td>\n",
       "      <td>...</td>\n",
       "      <td>0</td>\n",
       "      <td>0</td>\n",
       "      <td>0</td>\n",
       "      <td>0</td>\n",
       "      <td>NaN</td>\n",
       "      <td>NaN</td>\n",
       "      <td>NaN</td>\n",
       "      <td>NaN</td>\n",
       "      <td>NaN</td>\n",
       "      <td>NaN</td>\n",
       "    </tr>\n",
       "    <tr>\n",
       "      <th>4</th>\n",
       "      <td>0</td>\n",
       "      <td>-0.036222</td>\n",
       "      <td>-0.250917</td>\n",
       "      <td>-0.056238</td>\n",
       "      <td>0.015087</td>\n",
       "      <td>0</td>\n",
       "      <td>121500.0</td>\n",
       "      <td>513000.0</td>\n",
       "      <td>21865.5</td>\n",
       "      <td>513000.0</td>\n",
       "      <td>...</td>\n",
       "      <td>0</td>\n",
       "      <td>0</td>\n",
       "      <td>0</td>\n",
       "      <td>0</td>\n",
       "      <td>0.0</td>\n",
       "      <td>0.0</td>\n",
       "      <td>0.0</td>\n",
       "      <td>0.0</td>\n",
       "      <td>0.0</td>\n",
       "      <td>0.0</td>\n",
       "    </tr>\n",
       "  </tbody>\n",
       "</table>\n",
       "<p>5 rows × 121 columns</p>\n",
       "</div>"
      ],
      "text/plain": [
       "   TARGET  NAME_CONTRACT_TYPE  CODE_GENDER  FLAG_OWN_CAR  FLAG_OWN_REALTY  \\\n",
       "0       1           -0.036222    -0.250917     -0.056238         0.015087   \n",
       "1       0           -0.036222     0.154321     -0.056238        -0.033475   \n",
       "2       0            0.415413    -0.250917      0.117347         0.015087   \n",
       "3       0           -0.036222     0.154321     -0.056238         0.015087   \n",
       "4       0           -0.036222    -0.250917     -0.056238         0.015087   \n",
       "\n",
       "   CNT_CHILDREN  AMT_INCOME_TOTAL  AMT_CREDIT  AMT_ANNUITY  AMT_GOODS_PRICE  \\\n",
       "0             0          202500.0    406597.5      24700.5         351000.0   \n",
       "1             0          270000.0   1293502.5      35698.5        1129500.0   \n",
       "2             0           67500.0    135000.0       6750.0         135000.0   \n",
       "3             0          135000.0    312682.5      29686.5         297000.0   \n",
       "4             0          121500.0    513000.0      21865.5         513000.0   \n",
       "\n",
       "              ...              FLAG_DOCUMENT_18  FLAG_DOCUMENT_19  \\\n",
       "0             ...                             0                 0   \n",
       "1             ...                             0                 0   \n",
       "2             ...                             0                 0   \n",
       "3             ...                             0                 0   \n",
       "4             ...                             0                 0   \n",
       "\n",
       "   FLAG_DOCUMENT_20  FLAG_DOCUMENT_21  AMT_REQ_CREDIT_BUREAU_HOUR  \\\n",
       "0                 0                 0                         0.0   \n",
       "1                 0                 0                         0.0   \n",
       "2                 0                 0                         0.0   \n",
       "3                 0                 0                         NaN   \n",
       "4                 0                 0                         0.0   \n",
       "\n",
       "   AMT_REQ_CREDIT_BUREAU_DAY  AMT_REQ_CREDIT_BUREAU_WEEK  \\\n",
       "0                        0.0                         0.0   \n",
       "1                        0.0                         0.0   \n",
       "2                        0.0                         0.0   \n",
       "3                        NaN                         NaN   \n",
       "4                        0.0                         0.0   \n",
       "\n",
       "   AMT_REQ_CREDIT_BUREAU_MON  AMT_REQ_CREDIT_BUREAU_QRT  \\\n",
       "0                        0.0                        0.0   \n",
       "1                        0.0                        0.0   \n",
       "2                        0.0                        0.0   \n",
       "3                        NaN                        NaN   \n",
       "4                        0.0                        0.0   \n",
       "\n",
       "   AMT_REQ_CREDIT_BUREAU_YEAR  \n",
       "0                         1.0  \n",
       "1                         0.0  \n",
       "2                         0.0  \n",
       "3                         NaN  \n",
       "4                         0.0  \n",
       "\n",
       "[5 rows x 121 columns]"
      ]
     },
     "execution_count": 18,
     "metadata": {},
     "output_type": "execute_result"
    }
   ],
   "source": [
    "data2.head()"
   ]
  },
  {
   "cell_type": "markdown",
   "metadata": {},
   "source": [
    "###### Separate Train/Val & Test"
   ]
  },
  {
   "cell_type": "code",
   "execution_count": 27,
   "metadata": {
    "collapsed": true
   },
   "outputs": [],
   "source": [
    "data2_tr_val = data2[:np.int(0.8*len(data2))]"
   ]
  },
  {
   "cell_type": "code",
   "execution_count": 32,
   "metadata": {},
   "outputs": [
    {
     "data": {
      "text/plain": [
       "(246005, 121)"
      ]
     },
     "execution_count": 32,
     "metadata": {},
     "output_type": "execute_result"
    }
   ],
   "source": [
    "data2_tr_val.shape"
   ]
  },
  {
   "cell_type": "code",
   "execution_count": 34,
   "metadata": {
    "collapsed": true
   },
   "outputs": [],
   "source": [
    "data2_test = data2[np.int(0.8*len(data2))+1: len(data2)]"
   ]
  },
  {
   "cell_type": "code",
   "execution_count": 35,
   "metadata": {},
   "outputs": [
    {
     "data": {
      "text/plain": [
       "(61501, 121)"
      ]
     },
     "execution_count": 35,
     "metadata": {},
     "output_type": "execute_result"
    }
   ],
   "source": [
    "data2_test.shape"
   ]
  },
  {
   "cell_type": "code",
   "execution_count": null,
   "metadata": {
    "collapsed": true
   },
   "outputs": [],
   "source": []
  },
  {
   "cell_type": "code",
   "execution_count": null,
   "metadata": {
    "collapsed": true
   },
   "outputs": [],
   "source": []
  },
  {
   "cell_type": "code",
   "execution_count": 36,
   "metadata": {
    "_uuid": "7aa9e669ef802707ef54d3a87389d42805ac3e61",
    "collapsed": true
   },
   "outputs": [],
   "source": [
    "y = data2_tr_val.pop('TARGET')\n",
    "# file3.shape"
   ]
  },
  {
   "cell_type": "code",
   "execution_count": 37,
   "metadata": {
    "_uuid": "72317dfb0b81f5c3a6964b0260d51980ad204634"
   },
   "outputs": [
    {
     "name": "stderr",
     "output_type": "stream",
     "text": [
      "/Users/adil/anaconda3/envs/python36_v2/lib/python3.6/site-packages/ipykernel_launcher.py:21: SettingWithCopyWarning: \n",
      "A value is trying to be set on a copy of a slice from a DataFrame.\n",
      "Try using .loc[row_indexer,col_indexer] = value instead\n",
      "\n",
      "See the caveats in the documentation: http://pandas.pydata.org/pandas-docs/stable/indexing.html#indexing-view-versus-copy\n",
      "/Users/adil/anaconda3/envs/python36_v2/lib/python3.6/site-packages/ipykernel_launcher.py:18: SettingWithCopyWarning: \n",
      "A value is trying to be set on a copy of a slice from a DataFrame.\n",
      "Try using .loc[row_indexer,col_indexer] = value instead\n",
      "\n",
      "See the caveats in the documentation: http://pandas.pydata.org/pandas-docs/stable/indexing.html#indexing-view-versus-copy\n",
      "/Users/adil/anaconda3/envs/python36_v2/lib/python3.6/site-packages/ipykernel_launcher.py:13: SettingWithCopyWarning: \n",
      "A value is trying to be set on a copy of a slice from a DataFrame.\n",
      "Try using .loc[row_indexer,col_indexer] = value instead\n",
      "\n",
      "See the caveats in the documentation: http://pandas.pydata.org/pandas-docs/stable/indexing.html#indexing-view-versus-copy\n",
      "  del sys.path[0]\n",
      "/Users/adil/anaconda3/envs/python36_v2/lib/python3.6/site-packages/sklearn/utils/validation.py:475: DataConversionWarning: Data with input dtype int64 was converted to float64 by MinMaxScaler.\n",
      "  warnings.warn(msg, DataConversionWarning)\n"
     ]
    }
   ],
   "source": [
    "data_scaled = impute_features(data2_tr_val)\n",
    "data_scaled = scale_features(data_scaled)"
   ]
  },
  {
   "cell_type": "code",
   "execution_count": null,
   "metadata": {
    "_uuid": "daa78b7d3ee30f3b7f7226e00d0f42d2b2d7475c",
    "collapsed": true
   },
   "outputs": [],
   "source": [
    "# data_scaled, y = take_sample(data_scaled, y)"
   ]
  },
  {
   "cell_type": "code",
   "execution_count": 38,
   "metadata": {
    "collapsed": true
   },
   "outputs": [],
   "source": [
    "score = RF_Classifier(data_sRF_Classifiercaled, y, 5)"
   ]
  },
  {
   "cell_type": "code",
   "execution_count": 39,
   "metadata": {},
   "outputs": [
    {
     "data": {
      "text/plain": [
       "0.71043386103077966"
      ]
     },
     "execution_count": 39,
     "metadata": {},
     "output_type": "execute_result"
    }
   ],
   "source": [
    "score"
   ]
  },
  {
   "cell_type": "code",
   "execution_count": null,
   "metadata": {
    "_uuid": "6effb9720b6544e668e31e3eeb587ac34c501e76",
    "collapsed": true
   },
   "outputs": [],
   "source": [
    "# train_X, val_X, train_y, val_y = train_test_split(data_scaled, y, random_state = 1)"
   ]
  },
  {
   "cell_type": "code",
   "execution_count": null,
   "metadata": {
    "collapsed": true
   },
   "outputs": [],
   "source": [
    "# rf_model = RandomForestClassifier(n_estimators=100, random_state=1).fit(train_X, train_y)"
   ]
  },
  {
   "cell_type": "code",
   "execution_count": null,
   "metadata": {
    "collapsed": true
   },
   "outputs": [],
   "source": [
    "# prediction_rf = rf_model.predict_proba(val_X)[:,1]"
   ]
  },
  {
   "cell_type": "code",
   "execution_count": null,
   "metadata": {
    "collapsed": true
   },
   "outputs": [],
   "source": [
    "# rf_roc_auc = roc_auc_score(val_y, prediction_rf)\n",
    "# rf_roc_auc"
   ]
  },
  {
   "cell_type": "markdown",
   "metadata": {},
   "source": [
    "### Bayesian Optimisation of RF model"
   ]
  },
  {
   "cell_type": "markdown",
   "metadata": {},
   "source": [
    "###### RF Parameters"
   ]
  },
  {
   "cell_type": "code",
   "execution_count": 40,
   "metadata": {
    "collapsed": true
   },
   "outputs": [],
   "source": [
    "# # from that dimension (`'log-uniform'` for the learning rate)\n",
    "# space  = [Integer(25, 250, name = 'n_estimators'),\n",
    "#           Categorical(['gini', 'entropy'], name = 'criterion'),\n",
    "# #           Integer(50, 200, name = 'max_depth'),\n",
    "#           Integer(2, 60,  name = 'min_samples_split'),\n",
    "#           Integer(1, 5, name = 'min_samples_leaf'),\n",
    "# #           Real(0.6, 0.9, name = 'min_weight_fraction_leaf'),\n",
    "# #           Real(0.01, 2, 0.001, name = 'max_features'), \n",
    "# #           Integer(80, 120, name = 'max_leaf_nodes'),\n",
    "# #           Integer(100, 1000, name = 'min_impurity_decrease')\n",
    "#           Categorical([True, False], name = 'bootstrap'),\n",
    "#           Categorical([True, False], name = 'oob_score'),\n",
    "# #           Real(-1, 1, name = 'n_jobs'),\n",
    "# #           Real(0, 1, name = 'random_state'),\n",
    "# #           Real(,  , name = 'verbose'),\n",
    "#           Categorical([True, False], name = 'warm_start')\n",
    "# #           xxx(, , name = 'class_weight') \n",
    "#          ]"
   ]
  },
  {
   "cell_type": "code",
   "execution_count": 57,
   "metadata": {
    "collapsed": true
   },
   "outputs": [],
   "source": [
    "# AFTER PARFIT\n",
    "\n",
    "# from that dimension (`'log-uniform'` for the learning rate)\n",
    "space  = [Integer(250, 325, name = 'n_estimators'),\n",
    "          Categorical(['entropy'], name = 'criterion'),\n",
    "#           Integer(50, 200, name = 'max_depth'),\n",
    "          Integer(50, 70,  name = 'min_samples_split'),\n",
    "          Integer(4, 15, name = 'min_samples_leaf'),\n",
    "#           Real(0.6, 0.9, name = 'min_weight_fraction_leaf'),\n",
    "#           Real(0.01, 2, 0.001, name = 'max_features'), \n",
    "#           Integer(80, 120, name = 'max_leaf_nodes'),\n",
    "#           Integer(100, 1000, name = 'min_impurity_decrease')\n",
    "          Categorical([True, False], name = 'bootstrap'),\n",
    "          Categorical([False], name = 'oob_score'),\n",
    "#           Real(-1, 1, name = 'n_jobs'),\n",
    "#           Real(0, 1, name = 'random_state'),\n",
    "#           Real(,  , name = 'verbose'),\n",
    "          Categorical([False], name = 'warm_start')\n",
    "#           xxx(, , name = 'class_weight') \n",
    "         ]"
   ]
  },
  {
   "cell_type": "code",
   "execution_count": 58,
   "metadata": {
    "collapsed": true
   },
   "outputs": [],
   "source": [
    "def objective(values):\n",
    "    \n",
    "    params = {'n_estimators': values[0], \n",
    "              'criterion': values[1], \n",
    "              'min_samples_split': values[2], \n",
    "              'min_samples_leaf': values[3],\n",
    "#               'bootstrap': values[4],\n",
    "              'oob_score': values[5],\n",
    "              'warm_start': values[6]\n",
    "              }\n",
    "    \n",
    "    print('\\nNext set of params.....', params)\n",
    "    \n",
    "    train_X, val_X, train_y, val_y = train_test_split(data_scaled, y)\n",
    "    \n",
    "    rf_model = RandomForestClassifier(**params, n_jobs = -1).fit(train_X, train_y)\n",
    "    \n",
    "    auc = -roc_auc_score(val_y, rf_model.predict_proba(val_X)[:,1])\n",
    "    \n",
    "    print(\"\\nAUROC.....\", -auc)\n",
    "    \n",
    "    gc.collect()\n",
    "    \n",
    "    return  auc"
   ]
  },
  {
   "cell_type": "code",
   "execution_count": 59,
   "metadata": {
    "scrolled": false
   },
   "outputs": [
    {
     "name": "stdout",
     "output_type": "stream",
     "text": [
      "\n",
      "Next set of params..... {'n_estimators': 294, 'criterion': 'entropy', 'min_samples_split': 67, 'min_samples_leaf': 13, 'oob_score': False, 'warm_start': False}\n",
      "\n",
      "AUROC..... 0.745789170529\n",
      "\n",
      "Next set of params..... {'n_estimators': 254, 'criterion': 'entropy', 'min_samples_split': 60, 'min_samples_leaf': 13, 'oob_score': False, 'warm_start': False}\n",
      "\n",
      "AUROC..... 0.745547131339\n",
      "\n",
      "Next set of params..... {'n_estimators': 275, 'criterion': 'entropy', 'min_samples_split': 57, 'min_samples_leaf': 15, 'oob_score': False, 'warm_start': False}\n",
      "\n",
      "AUROC..... 0.744540593457\n",
      "\n",
      "Next set of params..... {'n_estimators': 310, 'criterion': 'entropy', 'min_samples_split': 64, 'min_samples_leaf': 12, 'oob_score': False, 'warm_start': False}\n",
      "\n",
      "AUROC..... 0.746197870309\n",
      "\n",
      "Next set of params..... {'n_estimators': 258, 'criterion': 'entropy', 'min_samples_split': 54, 'min_samples_leaf': 12, 'oob_score': False, 'warm_start': False}\n",
      "\n",
      "AUROC..... 0.74463115034\n",
      "\n",
      "Next set of params..... {'n_estimators': 261, 'criterion': 'entropy', 'min_samples_split': 58, 'min_samples_leaf': 14, 'oob_score': False, 'warm_start': False}\n",
      "\n",
      "AUROC..... 0.745838287072\n",
      "\n",
      "Next set of params..... {'n_estimators': 257, 'criterion': 'entropy', 'min_samples_split': 63, 'min_samples_leaf': 6, 'oob_score': False, 'warm_start': False}\n",
      "\n",
      "AUROC..... 0.743593308787\n",
      "\n",
      "Next set of params..... {'n_estimators': 274, 'criterion': 'entropy', 'min_samples_split': 63, 'min_samples_leaf': 15, 'oob_score': False, 'warm_start': False}\n",
      "\n",
      "AUROC..... 0.743364617426\n",
      "\n",
      "Next set of params..... {'n_estimators': 294, 'criterion': 'entropy', 'min_samples_split': 59, 'min_samples_leaf': 11, 'oob_score': False, 'warm_start': False}\n",
      "\n",
      "AUROC..... 0.748311862522\n",
      "\n",
      "Next set of params..... {'n_estimators': 308, 'criterion': 'entropy', 'min_samples_split': 63, 'min_samples_leaf': 4, 'oob_score': False, 'warm_start': False}\n",
      "\n",
      "AUROC..... 0.747294966506\n",
      "\n",
      "Next set of params..... {'n_estimators': 325, 'criterion': 'entropy', 'min_samples_split': 50, 'min_samples_leaf': 4, 'oob_score': False, 'warm_start': False}\n",
      "\n",
      "AUROC..... 0.741685908018\n",
      "\n",
      "Next set of params..... {'n_estimators': 325, 'criterion': 'entropy', 'min_samples_split': 70, 'min_samples_leaf': 4, 'oob_score': False, 'warm_start': False}\n",
      "\n",
      "AUROC..... 0.741626206614\n",
      "\n",
      "Next set of params..... {'n_estimators': 251, 'criterion': 'entropy', 'min_samples_split': 51, 'min_samples_leaf': 4, 'oob_score': False, 'warm_start': False}\n",
      "\n",
      "AUROC..... 0.737453512221\n",
      "\n",
      "Next set of params..... {'n_estimators': 325, 'criterion': 'entropy', 'min_samples_split': 70, 'min_samples_leaf': 15, 'oob_score': False, 'warm_start': False}\n",
      "\n",
      "AUROC..... 0.747734149724\n",
      "\n",
      "Next set of params..... {'n_estimators': 325, 'criterion': 'entropy', 'min_samples_split': 70, 'min_samples_leaf': 15, 'oob_score': False, 'warm_start': False}\n",
      "\n",
      "AUROC..... 0.747604158619\n",
      "\n",
      "Next set of params..... {'n_estimators': 314, 'criterion': 'entropy', 'min_samples_split': 50, 'min_samples_leaf': 15, 'oob_score': False, 'warm_start': False}\n",
      "\n",
      "AUROC..... 0.750268896366\n",
      "\n",
      "Next set of params..... {'n_estimators': 324, 'criterion': 'entropy', 'min_samples_split': 51, 'min_samples_leaf': 15, 'oob_score': False, 'warm_start': False}\n",
      "\n",
      "AUROC..... 0.745249952748\n",
      "\n",
      "Next set of params..... {'n_estimators': 325, 'criterion': 'entropy', 'min_samples_split': 70, 'min_samples_leaf': 15, 'oob_score': False, 'warm_start': False}\n",
      "\n",
      "AUROC..... 0.743567361716\n",
      "\n",
      "Next set of params..... {'n_estimators': 254, 'criterion': 'entropy', 'min_samples_split': 70, 'min_samples_leaf': 15, 'oob_score': False, 'warm_start': False}\n",
      "\n",
      "AUROC..... 0.747201034748\n",
      "\n",
      "Next set of params..... {'n_estimators': 252, 'criterion': 'entropy', 'min_samples_split': 70, 'min_samples_leaf': 4, 'oob_score': False, 'warm_start': False}\n",
      "\n",
      "AUROC..... 0.741473193509\n",
      "Best score=-0.7503\n",
      "Best params:  [314, 'entropy', 50, 15, False, False, False]\n"
     ]
    }
   ],
   "source": [
    "res_gp = gp_minimize(objective, space, n_calls=20, random_state = 0, n_random_starts = 10, n_jobs = -1)\n",
    "\n",
    "print(\"Best score=%.4f\" % res_gp.fun)\n",
    "print(\"Best params: \", res_gp.x)"
   ]
  },
  {
   "cell_type": "code",
   "execution_count": 43,
   "metadata": {},
   "outputs": [
    {
     "data": {
      "text/plain": [
       "<matplotlib.axes._subplots.AxesSubplot at 0x1a1de35320>"
      ]
     },
     "execution_count": 43,
     "metadata": {},
     "output_type": "execute_result"
    },
    {
     "data": {
      "image/png": "[encoded data removed]",
      "text/plain": [
       "<Figure size 432x288 with 1 Axes>"
      ]
     },
     "metadata": {},
     "output_type": "display_data"
    }
   ],
   "source": [
    "from skopt.plots import plot_convergence\n",
    "\n",
    "plot_convergence(res_gp)"
   ]
  },
  {
   "cell_type": "code",
   "execution_count": 60,
   "metadata": {},
   "outputs": [
    {
     "data": {
      "text/plain": [
       "RandomForestClassifier(bootstrap=True, class_weight=None, criterion='entropy',\n",
       "            max_depth=None, max_features='auto', max_leaf_nodes=None,\n",
       "            min_impurity_decrease=0.0, min_impurity_split=None,\n",
       "            min_samples_leaf=15, min_samples_split=50,\n",
       "            min_weight_fraction_leaf=0.0, n_estimators=314, n_jobs=-1,\n",
       "            oob_score=False, random_state=None, verbose=0,\n",
       "            warm_start=False)"
      ]
     },
     "execution_count": 60,
     "metadata": {},
     "output_type": "execute_result"
    }
   ],
   "source": [
    "newRF_model = RandomForestClassifier(n_estimators = 314, criterion = 'entropy', min_samples_split = 50, \\\n",
    "                                   min_samples_leaf = 15, oob_score = False, warm_start = False, n_jobs = -1)\n",
    "newRF_model.fit(data_scaled, y)"
   ]
  },
  {
   "cell_type": "code",
   "execution_count": 46,
   "metadata": {},
   "outputs": [
    {
     "name": "stderr",
     "output_type": "stream",
     "text": [
      "/Users/adil/anaconda3/envs/python36_v2/lib/python3.6/site-packages/ipykernel_launcher.py:21: SettingWithCopyWarning: \n",
      "A value is trying to be set on a copy of a slice from a DataFrame.\n",
      "Try using .loc[row_indexer,col_indexer] = value instead\n",
      "\n",
      "See the caveats in the documentation: http://pandas.pydata.org/pandas-docs/stable/indexing.html#indexing-view-versus-copy\n",
      "/Users/adil/anaconda3/envs/python36_v2/lib/python3.6/site-packages/ipykernel_launcher.py:18: SettingWithCopyWarning: \n",
      "A value is trying to be set on a copy of a slice from a DataFrame.\n",
      "Try using .loc[row_indexer,col_indexer] = value instead\n",
      "\n",
      "See the caveats in the documentation: http://pandas.pydata.org/pandas-docs/stable/indexing.html#indexing-view-versus-copy\n",
      "/Users/adil/anaconda3/envs/python36_v2/lib/python3.6/site-packages/ipykernel_launcher.py:13: SettingWithCopyWarning: \n",
      "A value is trying to be set on a copy of a slice from a DataFrame.\n",
      "Try using .loc[row_indexer,col_indexer] = value instead\n",
      "\n",
      "See the caveats in the documentation: http://pandas.pydata.org/pandas-docs/stable/indexing.html#indexing-view-versus-copy\n",
      "  del sys.path[0]\n",
      "/Users/adil/anaconda3/envs/python36_v2/lib/python3.6/site-packages/sklearn/utils/validation.py:475: DataConversionWarning: Data with input dtype int64 was converted to float64 by MinMaxScaler.\n",
      "  warnings.warn(msg, DataConversionWarning)\n"
     ]
    },
    {
     "name": "stdout",
     "output_type": "stream",
     "text": [
      "CPU times: user 11.4 s, sys: 157 ms, total: 11.5 s\n",
      "Wall time: 11.6 s\n"
     ]
    }
   ],
   "source": [
    "%%time\n",
    "data2_test_scaled = impute_features(data2_test)\n",
    "data2_test_scaled = scale_features(data2_test)"
   ]
  },
  {
   "cell_type": "code",
   "execution_count": null,
   "metadata": {
    "collapsed": true
   },
   "outputs": [],
   "source": [
    "# data_scaled = impute_features(data2_tr_val)\n",
    "# data_scaled = scale_features(data_scaled)"
   ]
  },
  {
   "cell_type": "code",
   "execution_count": 47,
   "metadata": {
    "collapsed": true
   },
   "outputs": [],
   "source": [
    "y_target = data2_test_scaled.pop('TARGET')"
   ]
  },
  {
   "cell_type": "code",
   "execution_count": 61,
   "metadata": {},
   "outputs": [
    {
     "data": {
      "text/plain": [
       "0.74437718623652172"
      ]
     },
     "execution_count": 61,
     "metadata": {},
     "output_type": "execute_result"
    }
   ],
   "source": [
    "pred = newRF_model.predict_proba(data2_test_scaled)[:,1]\n",
    "# pred\n",
    "roc_auc_score_2 = roc_auc_score(y_target, pred)\n",
    "roc_auc_score_2"
   ]
  },
  {
   "cell_type": "code",
   "execution_count": 53,
   "metadata": {},
   "outputs": [
    {
     "data": {
      "text/plain": [
       "RandomForestClassifier(bootstrap=True, class_weight=None, criterion='gini',\n",
       "            max_depth=None, max_features='auto', max_leaf_nodes=None,\n",
       "            min_impurity_decrease=0.0, min_impurity_split=None,\n",
       "            min_samples_leaf=1, min_samples_split=2,\n",
       "            min_weight_fraction_leaf=0.0, n_estimators=100, n_jobs=-1,\n",
       "            oob_score=False, random_state=None, verbose=0,\n",
       "            warm_start=False)"
      ]
     },
     "execution_count": 53,
     "metadata": {},
     "output_type": "execute_result"
    }
   ],
   "source": [
    "newRF_model2 = RandomForestClassifier(n_estimators = 100, n_jobs = -1)\n",
    "newRF_model2.fit(data_scaled, y)"
   ]
  },
  {
   "cell_type": "code",
   "execution_count": 54,
   "metadata": {},
   "outputs": [
    {
     "data": {
      "text/plain": [
       "0.69648469137359403"
      ]
     },
     "execution_count": 54,
     "metadata": {},
     "output_type": "execute_result"
    }
   ],
   "source": [
    "pred = newRF_model2.predict_proba(data2_test_scaled)[:,1]\n",
    "# pred\n",
    "roc_auc_score_3 = roc_auc_score(y_target, pred)\n",
    "roc_auc_score_3"
   ]
  },
  {
   "cell_type": "markdown",
   "metadata": {},
   "source": [
    "### Parfit Optimisation on RF"
   ]
  },
  {
   "cell_type": "code",
   "execution_count": 56,
   "metadata": {
    "scrolled": false
   },
   "outputs": [
    {
     "name": "stdout",
     "output_type": "stream",
     "text": [
      "-------------FITTING MODELS-------------\n"
     ]
    },
    {
     "name": "stderr",
     "output_type": "stream",
     "text": [
      "[Parallel(n_jobs=-1)]: Using backend LokyBackend with 4 concurrent workers.\n",
      "[Parallel(n_jobs=-1)]: Done   5 tasks      | elapsed: 10.8min\n",
      "[Parallel(n_jobs=-1)]: Done  10 tasks      | elapsed: 18.0min\n",
      "[Parallel(n_jobs=-1)]: Done  13 out of  18 | elapsed: 20.5min remaining:  7.9min\n",
      "[Parallel(n_jobs=-1)]: Done  15 out of  18 | elapsed: 23.9min remaining:  4.8min\n",
      "[Parallel(n_jobs=-1)]: Done  18 out of  18 | elapsed: 26.2min finished\n",
      "[Parallel(n_jobs=-1)]: Using backend LokyBackend with 4 concurrent workers.\n"
     ]
    },
    {
     "name": "stdout",
     "output_type": "stream",
     "text": [
      "-------------SCORING MODELS-------------\n"
     ]
    },
    {
     "name": "stderr",
     "output_type": "stream",
     "text": [
      "[Parallel(n_jobs=-1)]: Done  18 out of  18 | elapsed:  1.3min finished\n"
     ]
    },
    {
     "data": {
      "image/png": "[encoded data removed]",
      "text/plain": [
       "<Figure size 576x288 with 3 Axes>"
      ]
     },
     "metadata": {},
     "output_type": "display_data"
    },
    {
     "name": "stdout",
     "output_type": "stream",
     "text": [
      "RandomForestClassifier(bootstrap=True, class_weight=None, criterion='entropy',\n",
      "            max_depth=None, max_features='auto', max_leaf_nodes=None,\n",
      "            min_impurity_decrease=0.0, min_impurity_split=None,\n",
      "            min_samples_leaf=10, min_samples_split=55,\n",
      "            min_weight_fraction_leaf=0.0, n_estimators=300, n_jobs=-1,\n",
      "            oob_score=False, random_state=None, verbose=0,\n",
      "            warm_start=False) 0.747288799401\n"
     ]
    }
   ],
   "source": [
    "from sklearn.model_selection import ParameterGrid\n",
    "import parfit.parfit as pf\n",
    "\n",
    "grid = {\n",
    "    'n_estimators': [225, 300, 350],\n",
    "    'criterion' :['entropy'],\n",
    "    'min_samples_split': [55, 90],\n",
    "    'min_samples_leaf' : [3, 10, 15],\n",
    "    'oob_score': [False],\n",
    "    'warm_start' : [False],\n",
    "    'n_jobs' : [-1]\n",
    "    }\n",
    "paramGrid = ParameterGrid(grid)\n",
    "\n",
    "X_train, X_test, y_train, y_test = train_test_split(data_scaled, y, test_size = 0.33, random_state = 42)\n",
    "\n",
    "bestModel, bestScore, allModels, allScores = pf.bestFit(RandomForestClassifier(), paramGrid,\n",
    "           X_train, y_train, X_test, y_test, \n",
    "           metric = roc_auc_score, greater_is_better = True,\n",
    "           predict_proba = True, scoreLabel = \"AUC\")\n",
    "\n",
    "print(bestModel, bestScore)"
   ]
  },
  {
   "cell_type": "code",
   "execution_count": null,
   "metadata": {
    "collapsed": true
   },
   "outputs": [],
   "source": []
  }
 ],
 "metadata": {
  "kernelspec": {
   "display_name": "Python 3",
   "language": "python",
   "name": "python3"
  },
  "language_info": {
   "codemirror_mode": {
    "name": "ipython",
    "version": 3
   },
   "file_extension": ".py",
   "mimetype": "text/x-python",
   "name": "python",
   "nbconvert_exporter": "python",
   "pygments_lexer": "ipython3",
   "version": "3.6.8"
  }
 },
 "nbformat": 4,
 "nbformat_minor": 2
}
